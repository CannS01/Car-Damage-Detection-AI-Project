{
  "cells": [
    {
      "cell_type": "markdown",
      "metadata": {
        "id": "view-in-github",
        "colab_type": "text"
      },
      "source": [
        "<a href=\"https://colab.research.google.com/github/CannS01/Car-Damage-Dataset-AI-Project/blob/main/Car_Damage_Detection_AI.ipynb\" target=\"_parent\"><img src=\"https://colab.research.google.com/assets/colab-badge.svg\" alt=\"Open In Colab\"/></a>"
      ]
    },
    {
      "cell_type": "code",
      "execution_count": null,
      "metadata": {
        "colab": {
          "background_save": true,
          "base_uri": "https://localhost:8080/"
        },
        "id": "QAR9zUaK1url",
        "collapsed": true,
        "outputId": "b7519856-dc23-4bb6-f54e-c2d9fc1034c0"
      },
      "outputs": [
        {
          "name": "stdout",
          "output_type": "stream",
          "text": [
            "\u001b[2K   \u001b[90m━━━━━━━━━━━━━━━━━━━━━━━━━━━━━━━━━━━━━━━━\u001b[0m \u001b[32m363.4/363.4 MB\u001b[0m \u001b[31m4.8 MB/s\u001b[0m eta \u001b[36m0:00:00\u001b[0m\n",
            "\u001b[2K   \u001b[90m━━━━━━━━━━━━━━━━━━━━━━━━━━━━━━━━━━━━━━━━\u001b[0m \u001b[32m13.8/13.8 MB\u001b[0m \u001b[31m92.2 MB/s\u001b[0m eta \u001b[36m0:00:00\u001b[0m\n",
            "\u001b[2K   \u001b[90m━━━━━━━━━━━━━━━━━━━━━━━━━━━━━━━━━━━━━━━━\u001b[0m \u001b[32m24.6/24.6 MB\u001b[0m \u001b[31m91.2 MB/s\u001b[0m eta \u001b[36m0:00:00\u001b[0m\n",
            "\u001b[2K   \u001b[90m━━━━━━━━━━━━━━━━━━━━━━━━━━━━━━━━━━━━━━━━\u001b[0m \u001b[32m883.7/883.7 kB\u001b[0m \u001b[31m47.8 MB/s\u001b[0m eta \u001b[36m0:00:00\u001b[0m\n",
            "\u001b[2K   \u001b[90m━━━━━━━━━━━━━━━━━━━━━━━━━━━━━━━━━━━━━━━━\u001b[0m \u001b[32m664.8/664.8 MB\u001b[0m \u001b[31m1.6 MB/s\u001b[0m eta \u001b[36m0:00:00\u001b[0m\n",
            "\u001b[2K   \u001b[90m━━━━━━━━━━━━━━━━━━━━━━━━━━━━━━━━━━━━━━━━\u001b[0m \u001b[32m211.5/211.5 MB\u001b[0m \u001b[31m11.8 MB/s\u001b[0m eta \u001b[36m0:00:00\u001b[0m\n",
            "\u001b[2K   \u001b[90m━━━━━━━━━━━━━━━━━━━━━━━━━━━━━━━━━━━━━━━━\u001b[0m \u001b[32m56.3/56.3 MB\u001b[0m \u001b[31m42.1 MB/s\u001b[0m eta \u001b[36m0:00:00\u001b[0m\n",
            "\u001b[2K   \u001b[90m━━━━━━━━━━━━━━━━━━━━━━━━━━━━━━━━━━━━━━━━\u001b[0m \u001b[32m127.9/127.9 MB\u001b[0m \u001b[31m19.6 MB/s\u001b[0m eta \u001b[36m0:00:00\u001b[0m\n",
            "\u001b[2K   \u001b[90m━━━━━━━━━━━━━━━━━━━━━━━━━━━━━━━━━━━━━━━━\u001b[0m \u001b[32m207.5/207.5 MB\u001b[0m \u001b[31m4.7 MB/s\u001b[0m eta \u001b[36m0:00:00\u001b[0m\n",
            "\u001b[2K   \u001b[90m━━━━━━━━━━━━━━━━━━━━━━━━━━━━━━━━━━━━━━━━\u001b[0m \u001b[32m21.1/21.1 MB\u001b[0m \u001b[31m107.5 MB/s\u001b[0m eta \u001b[36m0:00:00\u001b[0m\n",
            "\u001b[?25h\u001b[31mERROR: Operation cancelled by user\u001b[0m\u001b[31m\n",
            "\u001b[0m"
          ]
        }
      ],
      "source": [
        "!pip install --quiet torch torchvision torchaudio\n",
        "!pip install --quiet matplotlib seaborn\n",
        "!pip install --quiet opencv-python"
      ]
    },
    {
      "cell_type": "code",
      "execution_count": 2,
      "metadata": {
        "id": "EFByPWfk0Z1T"
      },
      "outputs": [],
      "source": [
        "import torch\n",
        "import torch.nn as nn\n",
        "import torchvision.models as models\n"
      ]
    },
    {
      "cell_type": "code",
      "execution_count": 3,
      "metadata": {
        "colab": {
          "base_uri": "https://localhost:8080/"
        },
        "collapsed": true,
        "id": "nsLkMetyHlC4",
        "outputId": "31ab0eb4-e17c-4a60-9d78-d01314713658"
      },
      "outputs": [
        {
          "output_type": "stream",
          "name": "stdout",
          "text": [
            "cp: cannot stat 'kaggle.json': No such file or directory\n",
            "chmod: cannot access '/root/.kaggle/kaggle.json': No such file or directory\n"
          ]
        }
      ],
      "source": [
        "!mkdir -p ~/.kaggle\n",
        "!cp kaggle.json ~/.kaggle/\n",
        "!chmod 600 ~/.kaggle/kaggle.json\n"
      ]
    },
    {
      "cell_type": "code",
      "execution_count": 4,
      "metadata": {
        "colab": {
          "base_uri": "https://localhost:8080/"
        },
        "collapsed": true,
        "id": "nBO_FrqPvyTp",
        "outputId": "f8e700e6-6cef-4393-ee23-835afd3cf0ed"
      },
      "outputs": [
        {
          "output_type": "stream",
          "name": "stdout",
          "text": [
            "Requirement already satisfied: kaggle in /usr/local/lib/python3.11/dist-packages (1.7.4.5)\n",
            "Requirement already satisfied: bleach in /usr/local/lib/python3.11/dist-packages (from kaggle) (6.2.0)\n",
            "Requirement already satisfied: certifi>=14.05.14 in /usr/local/lib/python3.11/dist-packages (from kaggle) (2025.6.15)\n",
            "Requirement already satisfied: charset-normalizer in /usr/local/lib/python3.11/dist-packages (from kaggle) (3.4.2)\n",
            "Requirement already satisfied: idna in /usr/local/lib/python3.11/dist-packages (from kaggle) (3.10)\n",
            "Requirement already satisfied: protobuf in /usr/local/lib/python3.11/dist-packages (from kaggle) (5.29.5)\n",
            "Requirement already satisfied: python-dateutil>=2.5.3 in /usr/local/lib/python3.11/dist-packages (from kaggle) (2.9.0.post0)\n",
            "Requirement already satisfied: python-slugify in /usr/local/lib/python3.11/dist-packages (from kaggle) (8.0.4)\n",
            "Requirement already satisfied: requests in /usr/local/lib/python3.11/dist-packages (from kaggle) (2.32.3)\n",
            "Requirement already satisfied: setuptools>=21.0.0 in /usr/local/lib/python3.11/dist-packages (from kaggle) (75.2.0)\n",
            "Requirement already satisfied: six>=1.10 in /usr/local/lib/python3.11/dist-packages (from kaggle) (1.17.0)\n",
            "Requirement already satisfied: text-unidecode in /usr/local/lib/python3.11/dist-packages (from kaggle) (1.3)\n",
            "Requirement already satisfied: tqdm in /usr/local/lib/python3.11/dist-packages (from kaggle) (4.67.1)\n",
            "Requirement already satisfied: urllib3>=1.15.1 in /usr/local/lib/python3.11/dist-packages (from kaggle) (2.4.0)\n",
            "Requirement already satisfied: webencodings in /usr/local/lib/python3.11/dist-packages (from kaggle) (0.5.1)\n"
          ]
        }
      ],
      "source": [
        "!pip install kaggle"
      ]
    },
    {
      "cell_type": "code",
      "execution_count": 5,
      "metadata": {
        "colab": {
          "base_uri": "https://localhost:8080/",
          "height": 92
        },
        "id": "pnirtgl1v3ln",
        "outputId": "d81f641b-45c0-4d33-9582-5c0788a7a76f"
      },
      "outputs": [
        {
          "output_type": "display_data",
          "data": {
            "text/plain": [
              "<IPython.core.display.HTML object>"
            ],
            "text/html": [
              "\n",
              "     <input type=\"file\" id=\"files-634127fa-d048-4153-9751-9261fe7c1cb8\" name=\"files[]\" multiple disabled\n",
              "        style=\"border:none\" />\n",
              "     <output id=\"result-634127fa-d048-4153-9751-9261fe7c1cb8\">\n",
              "      Upload widget is only available when the cell has been executed in the\n",
              "      current browser session. Please rerun this cell to enable.\n",
              "      </output>\n",
              "      <script>// Copyright 2017 Google LLC\n",
              "//\n",
              "// Licensed under the Apache License, Version 2.0 (the \"License\");\n",
              "// you may not use this file except in compliance with the License.\n",
              "// You may obtain a copy of the License at\n",
              "//\n",
              "//      http://www.apache.org/licenses/LICENSE-2.0\n",
              "//\n",
              "// Unless required by applicable law or agreed to in writing, software\n",
              "// distributed under the License is distributed on an \"AS IS\" BASIS,\n",
              "// WITHOUT WARRANTIES OR CONDITIONS OF ANY KIND, either express or implied.\n",
              "// See the License for the specific language governing permissions and\n",
              "// limitations under the License.\n",
              "\n",
              "/**\n",
              " * @fileoverview Helpers for google.colab Python module.\n",
              " */\n",
              "(function(scope) {\n",
              "function span(text, styleAttributes = {}) {\n",
              "  const element = document.createElement('span');\n",
              "  element.textContent = text;\n",
              "  for (const key of Object.keys(styleAttributes)) {\n",
              "    element.style[key] = styleAttributes[key];\n",
              "  }\n",
              "  return element;\n",
              "}\n",
              "\n",
              "// Max number of bytes which will be uploaded at a time.\n",
              "const MAX_PAYLOAD_SIZE = 100 * 1024;\n",
              "\n",
              "function _uploadFiles(inputId, outputId) {\n",
              "  const steps = uploadFilesStep(inputId, outputId);\n",
              "  const outputElement = document.getElementById(outputId);\n",
              "  // Cache steps on the outputElement to make it available for the next call\n",
              "  // to uploadFilesContinue from Python.\n",
              "  outputElement.steps = steps;\n",
              "\n",
              "  return _uploadFilesContinue(outputId);\n",
              "}\n",
              "\n",
              "// This is roughly an async generator (not supported in the browser yet),\n",
              "// where there are multiple asynchronous steps and the Python side is going\n",
              "// to poll for completion of each step.\n",
              "// This uses a Promise to block the python side on completion of each step,\n",
              "// then passes the result of the previous step as the input to the next step.\n",
              "function _uploadFilesContinue(outputId) {\n",
              "  const outputElement = document.getElementById(outputId);\n",
              "  const steps = outputElement.steps;\n",
              "\n",
              "  const next = steps.next(outputElement.lastPromiseValue);\n",
              "  return Promise.resolve(next.value.promise).then((value) => {\n",
              "    // Cache the last promise value to make it available to the next\n",
              "    // step of the generator.\n",
              "    outputElement.lastPromiseValue = value;\n",
              "    return next.value.response;\n",
              "  });\n",
              "}\n",
              "\n",
              "/**\n",
              " * Generator function which is called between each async step of the upload\n",
              " * process.\n",
              " * @param {string} inputId Element ID of the input file picker element.\n",
              " * @param {string} outputId Element ID of the output display.\n",
              " * @return {!Iterable<!Object>} Iterable of next steps.\n",
              " */\n",
              "function* uploadFilesStep(inputId, outputId) {\n",
              "  const inputElement = document.getElementById(inputId);\n",
              "  inputElement.disabled = false;\n",
              "\n",
              "  const outputElement = document.getElementById(outputId);\n",
              "  outputElement.innerHTML = '';\n",
              "\n",
              "  const pickedPromise = new Promise((resolve) => {\n",
              "    inputElement.addEventListener('change', (e) => {\n",
              "      resolve(e.target.files);\n",
              "    });\n",
              "  });\n",
              "\n",
              "  const cancel = document.createElement('button');\n",
              "  inputElement.parentElement.appendChild(cancel);\n",
              "  cancel.textContent = 'Cancel upload';\n",
              "  const cancelPromise = new Promise((resolve) => {\n",
              "    cancel.onclick = () => {\n",
              "      resolve(null);\n",
              "    };\n",
              "  });\n",
              "\n",
              "  // Wait for the user to pick the files.\n",
              "  const files = yield {\n",
              "    promise: Promise.race([pickedPromise, cancelPromise]),\n",
              "    response: {\n",
              "      action: 'starting',\n",
              "    }\n",
              "  };\n",
              "\n",
              "  cancel.remove();\n",
              "\n",
              "  // Disable the input element since further picks are not allowed.\n",
              "  inputElement.disabled = true;\n",
              "\n",
              "  if (!files) {\n",
              "    return {\n",
              "      response: {\n",
              "        action: 'complete',\n",
              "      }\n",
              "    };\n",
              "  }\n",
              "\n",
              "  for (const file of files) {\n",
              "    const li = document.createElement('li');\n",
              "    li.append(span(file.name, {fontWeight: 'bold'}));\n",
              "    li.append(span(\n",
              "        `(${file.type || 'n/a'}) - ${file.size} bytes, ` +\n",
              "        `last modified: ${\n",
              "            file.lastModifiedDate ? file.lastModifiedDate.toLocaleDateString() :\n",
              "                                    'n/a'} - `));\n",
              "    const percent = span('0% done');\n",
              "    li.appendChild(percent);\n",
              "\n",
              "    outputElement.appendChild(li);\n",
              "\n",
              "    const fileDataPromise = new Promise((resolve) => {\n",
              "      const reader = new FileReader();\n",
              "      reader.onload = (e) => {\n",
              "        resolve(e.target.result);\n",
              "      };\n",
              "      reader.readAsArrayBuffer(file);\n",
              "    });\n",
              "    // Wait for the data to be ready.\n",
              "    let fileData = yield {\n",
              "      promise: fileDataPromise,\n",
              "      response: {\n",
              "        action: 'continue',\n",
              "      }\n",
              "    };\n",
              "\n",
              "    // Use a chunked sending to avoid message size limits. See b/62115660.\n",
              "    let position = 0;\n",
              "    do {\n",
              "      const length = Math.min(fileData.byteLength - position, MAX_PAYLOAD_SIZE);\n",
              "      const chunk = new Uint8Array(fileData, position, length);\n",
              "      position += length;\n",
              "\n",
              "      const base64 = btoa(String.fromCharCode.apply(null, chunk));\n",
              "      yield {\n",
              "        response: {\n",
              "          action: 'append',\n",
              "          file: file.name,\n",
              "          data: base64,\n",
              "        },\n",
              "      };\n",
              "\n",
              "      let percentDone = fileData.byteLength === 0 ?\n",
              "          100 :\n",
              "          Math.round((position / fileData.byteLength) * 100);\n",
              "      percent.textContent = `${percentDone}% done`;\n",
              "\n",
              "    } while (position < fileData.byteLength);\n",
              "  }\n",
              "\n",
              "  // All done.\n",
              "  yield {\n",
              "    response: {\n",
              "      action: 'complete',\n",
              "    }\n",
              "  };\n",
              "}\n",
              "\n",
              "scope.google = scope.google || {};\n",
              "scope.google.colab = scope.google.colab || {};\n",
              "scope.google.colab._files = {\n",
              "  _uploadFiles,\n",
              "  _uploadFilesContinue,\n",
              "};\n",
              "})(self);\n",
              "</script> "
            ]
          },
          "metadata": {}
        },
        {
          "output_type": "stream",
          "name": "stdout",
          "text": [
            "Saving kaggle.json to kaggle.json\n"
          ]
        },
        {
          "output_type": "execute_result",
          "data": {
            "text/plain": [
              "{'kaggle.json': b'{\"username\":\"cansalman\",\"key\":\"6cc5036911c7acf1b8e11ba746ca1c34\"}'}"
            ]
          },
          "metadata": {},
          "execution_count": 5
        }
      ],
      "source": [
        "from google.colab import files\n",
        "files.upload()"
      ]
    },
    {
      "cell_type": "code",
      "execution_count": 6,
      "metadata": {
        "colab": {
          "base_uri": "https://localhost:8080/"
        },
        "id": "_lWPnsFLv_Cw",
        "outputId": "149bdc64-0daf-4367-e363-dd39f2dacb24",
        "collapsed": true
      },
      "outputs": [
        {
          "output_type": "stream",
          "name": "stdout",
          "text": [
            "mkdir: cannot create directory ‘/root/.kaggle’: File exists\n"
          ]
        }
      ],
      "source": [
        "!mkdir ~/.kaggle\n",
        "!cp kaggle.json ~/.kaggle/\n",
        "!chmod 600 ~/.kaggle/kaggle.json"
      ]
    },
    {
      "cell_type": "code",
      "execution_count": 7,
      "metadata": {
        "colab": {
          "base_uri": "https://localhost:8080/"
        },
        "id": "LlclQzGHwZBS",
        "outputId": "b605e5ca-cace-4896-8a64-79c5d9fcf210"
      },
      "outputs": [
        {
          "output_type": "stream",
          "name": "stdout",
          "text": [
            "Dataset URL: https://www.kaggle.com/datasets/samwash94/comprehensive-car-damage-detection\n"
          ]
        }
      ],
      "source": [
        "import kaggle\n",
        "dataset = kaggle.api.dataset_download_files('samwash94/comprehensive-car-damage-detection', unzip=True)"
      ]
    },
    {
      "cell_type": "code",
      "execution_count": 8,
      "metadata": {
        "id": "7rZorLssw4Z2"
      },
      "outputs": [],
      "source": [
        "import os\n",
        "from PIL import Image\n",
        "from torch.utils.data import Dataset\n",
        "from torchvision import transforms\n",
        "\n",
        "damage_map = {'Normal': 0, 'Crushed': 1, 'Breakage': 2}\n",
        "view_map = {'F': 0, 'R': 1}\n",
        "\n",
        "class MultiTaskCarDataset(Dataset):\n",
        "    def __init__(self, root_dir, transform=None):\n",
        "        self.samples = []\n",
        "        self.transform = transform\n",
        "\n",
        "        for folder in os.listdir(root_dir):\n",
        "            folder_path = os.path.join(root_dir, folder)\n",
        "            if not os.path.isdir(folder_path):\n",
        "                continue\n",
        "\n",
        "            view_letter, damage_type = folder.split('_')\n",
        "            view_label = view_map[view_letter]\n",
        "            damage_label = damage_map[damage_type]\n",
        "\n",
        "            for fname in os.listdir(folder_path):\n",
        "                if fname.endswith('.jpg'):\n",
        "                    img_path = os.path.join(folder_path, fname)\n",
        "                    self.samples.append((img_path, view_label, damage_label))\n",
        "\n",
        "    def __len__(self):\n",
        "        return len(self.samples)\n",
        "\n",
        "    def __getitem__(self, idx):\n",
        "        img_path, view_label, damage_label = self.samples[idx]\n",
        "        image = Image.open(img_path).convert(\"RGB\")\n",
        "        if self.transform:\n",
        "            image = self.transform(image)\n",
        "        return image, torch.tensor(view_label), torch.tensor(damage_label)\n"
      ]
    },
    {
      "cell_type": "code",
      "execution_count": 9,
      "metadata": {
        "colab": {
          "base_uri": "https://localhost:8080/"
        },
        "id": "vouwLpXI0KrB",
        "outputId": "be4b364e-0077-47e7-a313-80066ef03c5b"
      },
      "outputs": [
        {
          "output_type": "stream",
          "name": "stdout",
          "text": [
            "Train set: 1592 görüntü\n",
            "Validation set: 398 görüntü\n"
          ]
        }
      ],
      "source": [
        "from torch.utils.data import DataLoader, random_split\n",
        "from torchvision import transforms\n",
        "\n",
        "transform = transforms.Compose([\n",
        "    transforms.Resize((128, 128)),\n",
        "    transforms.RandomHorizontalFlip(p=0.5),\n",
        "    transforms.RandomRotation(degrees=10),\n",
        "    transforms.ColorJitter(brightness=0.2, contrast=0.2, saturation=0.2),\n",
        "    transforms.ToTensor()\n",
        "])\n",
        "\n",
        "dataset_path = \"/content/dataset\"\n",
        "\n",
        "full_dataset = MultiTaskCarDataset(dataset_path, transform=transform)\n",
        "\n",
        "train_size = int(0.8 * len(full_dataset))\n",
        "val_size = len(full_dataset) - train_size\n",
        "\n",
        "train_dataset, val_dataset = random_split(full_dataset, [train_size, val_size])\n",
        "\n",
        "train_loader = DataLoader(train_dataset, batch_size=32, shuffle=True)\n",
        "val_loader = DataLoader(val_dataset, batch_size=32, shuffle=False)\n",
        "\n",
        "print(f\"Train set: {len(train_dataset)} görüntü\")\n",
        "print(f\"Validation set: {len(val_dataset)} görüntü\")\n",
        "\n"
      ]
    },
    {
      "cell_type": "code",
      "execution_count": 10,
      "metadata": {
        "id": "RrIBm5UKBvSH"
      },
      "outputs": [],
      "source": [
        "train_transform = transforms.Compose([\n",
        "    transforms.Resize((128, 128)),\n",
        "    transforms.RandomHorizontalFlip(p=0.5),\n",
        "    transforms.RandomRotation(10),\n",
        "    transforms.ColorJitter(0.2, 0.2, 0.2),\n",
        "    transforms.ToTensor()\n",
        "])\n",
        "\n",
        "val_transform = transforms.Compose([\n",
        "    transforms.Resize((128, 128)),\n",
        "    transforms.ToTensor()\n",
        "])"
      ]
    },
    {
      "cell_type": "code",
      "execution_count": 11,
      "metadata": {
        "id": "og5XWxdUBxJT"
      },
      "outputs": [],
      "source": [
        "dataset_path = \"/content/dataset\"\n",
        "train_dataset = MultiTaskCarDataset(dataset_path, transform=train_transform)\n",
        "val_dataset = MultiTaskCarDataset(dataset_path, transform=val_transform)\n",
        "\n",
        "train_size = int(0.8 * len(train_dataset))\n",
        "val_size = len(train_dataset) - train_size\n",
        "\n",
        "train_dataset, _ = random_split(train_dataset, [train_size, val_size])\n",
        "_, val_dataset = random_split(val_dataset, [train_size, val_size])\n",
        "\n",
        "train_loader = DataLoader(train_dataset, batch_size=32, shuffle=True)\n",
        "val_loader = DataLoader(val_dataset, batch_size=32, shuffle=False)\n"
      ]
    },
    {
      "cell_type": "code",
      "execution_count": 12,
      "metadata": {
        "id": "1jebtngn0vTN"
      },
      "outputs": [],
      "source": [
        "import torch.nn as nn\n",
        "import torchvision.models as models\n",
        "\n",
        "class MultiTaskResNet50(nn.Module):\n",
        "    def __init__(self, num_damage_classes=3, num_view_classes=2):\n",
        "        super(MultiTaskResNet50, self).__init__()\n",
        "        backbone = models.resnet50(pretrained=True)\n",
        "        self.backbone = nn.Sequential(*list(backbone.children())[:-1])\n",
        "        in_features = backbone.fc.in_features\n",
        "\n",
        "        self.head_damage = nn.Sequential(\n",
        "            nn.Flatten(),\n",
        "            nn.Linear(in_features, 256),\n",
        "            nn.ReLU(),\n",
        "            nn.Dropout(0.5),\n",
        "            nn.Linear(256, num_damage_classes)\n",
        "        )\n",
        "\n",
        "        self.head_view = nn.Sequential(\n",
        "            nn.Flatten(),\n",
        "            nn.Linear(in_features, 128),\n",
        "            nn.ReLU(),\n",
        "            nn.Dropout(0.5),\n",
        "            nn.Linear(128, num_view_classes)\n",
        "        )\n",
        "\n",
        "    def forward(self, x):\n",
        "        features = self.backbone(x)\n",
        "        out_damage = self.head_damage(features)\n",
        "        out_view = self.head_view(features)\n",
        "        return out_damage, out_view"
      ]
    },
    {
      "cell_type": "code",
      "execution_count": 13,
      "metadata": {
        "colab": {
          "base_uri": "https://localhost:8080/"
        },
        "collapsed": true,
        "id": "29tlFA0D0y90",
        "outputId": "9a103a82-dc6b-4a0e-b10d-6caff52780a3"
      },
      "outputs": [
        {
          "output_type": "stream",
          "name": "stderr",
          "text": [
            "/usr/local/lib/python3.11/dist-packages/torchvision/models/_utils.py:208: UserWarning: The parameter 'pretrained' is deprecated since 0.13 and may be removed in the future, please use 'weights' instead.\n",
            "  warnings.warn(\n",
            "/usr/local/lib/python3.11/dist-packages/torchvision/models/_utils.py:223: UserWarning: Arguments other than a weight enum or `None` for 'weights' are deprecated since 0.13 and may be removed in the future. The current behavior is equivalent to passing `weights=ResNet50_Weights.IMAGENET1K_V1`. You can also use `weights=ResNet50_Weights.DEFAULT` to get the most up-to-date weights.\n",
            "  warnings.warn(msg)\n",
            "Downloading: \"https://download.pytorch.org/models/resnet50-0676ba61.pth\" to /root/.cache/torch/hub/checkpoints/resnet50-0676ba61.pth\n",
            "100%|██████████| 97.8M/97.8M [00:00<00:00, 202MB/s]\n"
          ]
        },
        {
          "output_type": "stream",
          "name": "stdout",
          "text": [
            "Damage output: torch.Size([4, 3])\n",
            "View output:   torch.Size([4, 2])\n"
          ]
        }
      ],
      "source": [
        "model = MultiTaskResNet50()\n",
        "dummy_input = torch.randn(4, 3, 128, 128)\n",
        "out_damage, out_view = model(dummy_input)\n",
        "\n",
        "print(f\"Damage output: {out_damage.shape}\")\n",
        "print(f\"View output:   {out_view.shape}\")"
      ]
    },
    {
      "cell_type": "code",
      "execution_count": 14,
      "metadata": {
        "id": "sPXf-q_EXUL3"
      },
      "outputs": [],
      "source": [
        "class EarlyStopping:\n",
        "    def __init__(self, patience=5, verbose=True):\n",
        "        self.patience = patience\n",
        "        self.counter = 0\n",
        "        self.best_loss = None\n",
        "        self.early_stop = False\n",
        "        self.verbose = verbose\n",
        "\n",
        "    def __call__(self, val_loss):\n",
        "        if self.best_loss is None:\n",
        "            self.best_loss = val_loss\n",
        "        elif val_loss > self.best_loss:\n",
        "            self.counter += 1\n",
        "            if self.verbose:\n",
        "                print(f\"  ⚠️ EarlyStopping Counter: {self.counter} / {self.patience}\")\n",
        "            if self.counter >= self.patience:\n",
        "                self.early_stop = True\n",
        "        else:\n",
        "            self.best_loss = val_loss\n",
        "            self.counter = 0\n"
      ]
    },
    {
      "cell_type": "code",
      "execution_count": 15,
      "metadata": {
        "id": "cQZgcK7dXb9c"
      },
      "outputs": [],
      "source": [
        "early_stopping = EarlyStopping(patience=3)"
      ]
    },
    {
      "cell_type": "code",
      "execution_count": 16,
      "metadata": {
        "id": "_1pns9Zf07i4"
      },
      "outputs": [],
      "source": [
        "import torch\n",
        "import torch.optim as optim\n",
        "import torch.nn as nn\n",
        "\n",
        "device = torch.device(\"cuda\" if torch.cuda.is_available() else \"cpu\")\n",
        "\n",
        "model = MultiTaskResNet50().to(device)\n",
        "criterion_damage = nn.CrossEntropyLoss()\n",
        "criterion_view = nn.CrossEntropyLoss()\n",
        "optimizer = optim.Adam(model.parameters(), lr=0.0001, weight_decay=1e-4)\n",
        "\n",
        "from torch.optim.lr_scheduler import StepLR\n",
        "scheduler = StepLR(optimizer, step_size=3, gamma=0.5)\n",
        "\n",
        "def train(model, train_loader, val_loader, optimizer, scheduler, criterion_damage, criterion_view, device, num_epochs=10):\n",
        "    for epoch in range(num_epochs):\n",
        "        model.train()\n",
        "        total_loss = 0\n",
        "        correct_damage = 0\n",
        "        correct_view = 0\n",
        "        total_samples = 0\n",
        "\n",
        "        for images, view_labels, damage_labels in train_loader:\n",
        "            images = images.to(device)\n",
        "            view_labels = view_labels.to(device)\n",
        "            damage_labels = damage_labels.to(device)\n",
        "\n",
        "            out_damage, out_view = model(images)\n",
        "\n",
        "            loss_damage = criterion_damage(out_damage, damage_labels)\n",
        "            loss_view = criterion_view(out_view, view_labels)\n",
        "            loss = loss_damage + loss_view\n",
        "\n",
        "            optimizer.zero_grad()\n",
        "            loss.backward()\n",
        "            optimizer.step()\n",
        "\n",
        "            _, pred_damage = torch.max(out_damage, 1)\n",
        "            _, pred_view = torch.max(out_view, 1)\n",
        "\n",
        "            correct_damage += (pred_damage == damage_labels).sum().item()\n",
        "            correct_view += (pred_view == view_labels).sum().item()\n",
        "            total_samples += images.size(0)\n",
        "            total_loss += loss.item()\n",
        "\n",
        "        avg_loss = total_loss / len(train_loader)\n",
        "        acc_damage = 100 * correct_damage / total_samples\n",
        "        acc_view = 100 * correct_view / total_samples\n",
        "        print(f\"[Epoch {epoch+1}/{num_epochs}] Train Loss: {avg_loss:.4f} | Damage Acc: {acc_damage:.2f}% | View Acc: {acc_view:.2f}%\")\n",
        "\n",
        "        # Validation\n",
        "        model.eval()\n",
        "        val_loss = 0\n",
        "        val_correct_damage = 0\n",
        "        val_correct_view = 0\n",
        "        val_total = 0\n",
        "\n",
        "        with torch.no_grad():\n",
        "            for images, view_labels, damage_labels in val_loader:\n",
        "                images = images.to(device)\n",
        "                view_labels = view_labels.to(device)\n",
        "                damage_labels = damage_labels.to(device)\n",
        "\n",
        "                out_damage, out_view = model(images)\n",
        "\n",
        "                loss_damage = criterion_damage(out_damage, damage_labels)\n",
        "                loss_view = criterion_view(out_view, view_labels)\n",
        "                loss = loss_damage + loss_view\n",
        "                val_loss += loss.item()\n",
        "\n",
        "                _, pred_damage = torch.max(out_damage, 1)\n",
        "                _, pred_view = torch.max(out_view, 1)\n",
        "\n",
        "                val_correct_damage += (pred_damage == damage_labels).sum().item()\n",
        "                val_correct_view += (pred_view == view_labels).sum().item()\n",
        "                val_total += images.size(0)\n",
        "\n",
        "        val_avg_loss = val_loss / len(val_loader)\n",
        "        val_acc_damage = 100 * val_correct_damage / val_total\n",
        "        val_acc_view = 100 * val_correct_view / val_total\n",
        "\n",
        "        print(f\"               → Val Loss: {val_avg_loss:.4f} | Damage Acc: {val_acc_damage:.2f}% | View Acc: {val_acc_view:.2f}%\")\n",
        "\n",
        "        scheduler.step()"
      ]
    },
    {
      "cell_type": "code",
      "execution_count": 17,
      "metadata": {
        "colab": {
          "base_uri": "https://localhost:8080/"
        },
        "collapsed": true,
        "id": "J6OMgT8m6QYz",
        "outputId": "c2939557-0bdb-4877-b39a-7a35d8e89df8"
      },
      "outputs": [
        {
          "output_type": "stream",
          "name": "stdout",
          "text": [
            "[Epoch 1/10] Train Loss: 1.1811 | Damage Acc: 53.71% | View Acc: 90.95%\n",
            "               → Val Loss: 0.8112 | Damage Acc: 67.34% | View Acc: 99.75%\n",
            "[Epoch 2/10] Train Loss: 0.6932 | Damage Acc: 72.11% | View Acc: 98.93%\n",
            "               → Val Loss: 0.5329 | Damage Acc: 79.40% | View Acc: 99.75%\n",
            "[Epoch 3/10] Train Loss: 0.4980 | Damage Acc: 80.53% | View Acc: 99.50%\n",
            "               → Val Loss: 0.3756 | Damage Acc: 86.68% | View Acc: 99.50%\n",
            "[Epoch 4/10] Train Loss: 0.3705 | Damage Acc: 86.12% | View Acc: 99.37%\n",
            "               → Val Loss: 0.2644 | Damage Acc: 91.21% | View Acc: 99.75%\n",
            "[Epoch 5/10] Train Loss: 0.2538 | Damage Acc: 91.02% | View Acc: 99.62%\n",
            "               → Val Loss: 0.2385 | Damage Acc: 91.96% | View Acc: 100.00%\n",
            "[Epoch 6/10] Train Loss: 0.2004 | Damage Acc: 93.72% | View Acc: 99.69%\n",
            "               → Val Loss: 0.1907 | Damage Acc: 93.72% | View Acc: 100.00%\n",
            "[Epoch 7/10] Train Loss: 0.1460 | Damage Acc: 95.67% | View Acc: 99.69%\n",
            "               → Val Loss: 0.1869 | Damage Acc: 93.97% | View Acc: 100.00%\n",
            "[Epoch 8/10] Train Loss: 0.1037 | Damage Acc: 96.92% | View Acc: 99.87%\n",
            "               → Val Loss: 0.1841 | Damage Acc: 94.72% | View Acc: 100.00%\n",
            "[Epoch 9/10] Train Loss: 0.0875 | Damage Acc: 97.80% | View Acc: 99.81%\n",
            "               → Val Loss: 0.1741 | Damage Acc: 94.47% | View Acc: 100.00%\n",
            "[Epoch 10/10] Train Loss: 0.0847 | Damage Acc: 97.24% | View Acc: 100.00%\n",
            "               → Val Loss: 0.1727 | Damage Acc: 94.22% | View Acc: 100.00%\n"
          ]
        }
      ],
      "source": [
        "train(model, train_loader, val_loader, optimizer, scheduler,\n",
        "      criterion_damage, criterion_view, device, num_epochs=10)"
      ]
    },
    {
      "cell_type": "code",
      "execution_count": 18,
      "metadata": {
        "id": "-WHl25JpoHBq"
      },
      "outputs": [],
      "source": [
        "!pip install -q scikit-learn\n"
      ]
    },
    {
      "cell_type": "code",
      "execution_count": 19,
      "metadata": {
        "id": "qh3Y4TbqoKlp"
      },
      "outputs": [],
      "source": [
        "from sklearn.metrics import classification_report\n",
        "\n",
        "def evaluate_model(model, data_loader, device):\n",
        "    model.eval()\n",
        "    all_preds_damage = []\n",
        "    all_labels_damage = []\n",
        "    all_preds_view = []\n",
        "    all_labels_view = []\n",
        "\n",
        "    with torch.no_grad():\n",
        "        for images, view_labels, damage_labels in data_loader:\n",
        "            images = images.to(device)\n",
        "            view_labels = view_labels.to(device)\n",
        "            damage_labels = damage_labels.to(device)\n",
        "\n",
        "            out_damage, out_view = model(images)\n",
        "\n",
        "            _, pred_damage = torch.max(out_damage, 1)\n",
        "            _, pred_view = torch.max(out_view, 1)\n",
        "\n",
        "            all_preds_damage.extend(pred_damage.cpu().numpy())\n",
        "            all_labels_damage.extend(damage_labels.cpu().numpy())\n",
        "\n",
        "            all_preds_view.extend(pred_view.cpu().numpy())\n",
        "            all_labels_view.extend(view_labels.cpu().numpy())\n",
        "\n",
        "    print(\"🔧 Classification Report: DAMAGE (Normal / Crushed / Breakage)\")\n",
        "    print(classification_report(\n",
        "        all_labels_damage,\n",
        "        all_preds_damage,\n",
        "        target_names=[\"Normal\", \"Crushed\", \"Breakage\"]\n",
        "    ))\n",
        "\n",
        "    print(\"🔧 Classification Report: VIEW (Front / Rear)\")\n",
        "    print(classification_report(\n",
        "        all_labels_view,\n",
        "        all_preds_view,\n",
        "        target_names=[\"Front\", \"Rear\"]\n",
        "    ))\n"
      ]
    },
    {
      "cell_type": "code",
      "execution_count": 20,
      "metadata": {
        "colab": {
          "base_uri": "https://localhost:8080/"
        },
        "collapsed": true,
        "id": "6Pa7m6euoPIW",
        "outputId": "c89966b4-1962-4eea-b48c-1202652bb2d8"
      },
      "outputs": [
        {
          "output_type": "stream",
          "name": "stdout",
          "text": [
            "🔧 Classification Report: DAMAGE (Normal / Crushed / Breakage)\n",
            "              precision    recall  f1-score   support\n",
            "\n",
            "      Normal       0.98      0.91      0.95        94\n",
            "     Crushed       0.90      0.96      0.93       141\n",
            "    Breakage       0.96      0.94      0.95       163\n",
            "\n",
            "    accuracy                           0.94       398\n",
            "   macro avg       0.95      0.94      0.94       398\n",
            "weighted avg       0.94      0.94      0.94       398\n",
            "\n",
            "🔧 Classification Report: VIEW (Front / Rear)\n",
            "              precision    recall  f1-score   support\n",
            "\n",
            "       Front       1.00      1.00      1.00       223\n",
            "        Rear       1.00      1.00      1.00       175\n",
            "\n",
            "    accuracy                           1.00       398\n",
            "   macro avg       1.00      1.00      1.00       398\n",
            "weighted avg       1.00      1.00      1.00       398\n",
            "\n"
          ]
        }
      ],
      "source": [
        "evaluate_model(model, val_loader, device)\n"
      ]
    },
    {
      "cell_type": "code",
      "execution_count": 21,
      "metadata": {
        "id": "3Lb-qM8K_cTG"
      },
      "outputs": [],
      "source": [
        "torch.save(model.state_dict(), \"/content/multitask_resnet50.pth\")"
      ]
    },
    {
      "cell_type": "code",
      "execution_count": 23,
      "metadata": {
        "id": "roeFO6lsBy2S"
      },
      "outputs": [],
      "source": [
        "import torch.nn as nn\n",
        "import torchvision.models as models\n",
        "\n",
        "class MultiTaskDenseNet121(nn.Module):\n",
        "    def __init__(self, num_damage_classes=3, num_view_classes=2):\n",
        "        super(MultiTaskDenseNet121, self).__init__()\n",
        "        base_model = models.densenet121(pretrained=True)\n",
        "        self.features = base_model.features\n",
        "\n",
        "        self.pool = nn.AdaptiveAvgPool2d((1, 1))\n",
        "        in_features = 1024\n",
        "\n",
        "        self.head_damage = nn.Sequential(\n",
        "            nn.Flatten(),\n",
        "            nn.Linear(in_features, 256),\n",
        "            nn.ReLU(),\n",
        "            nn.Dropout(0.5),\n",
        "            nn.Linear(256, num_damage_classes)\n",
        "        )\n",
        "\n",
        "        self.head_view = nn.Sequential(\n",
        "            nn.Flatten(),\n",
        "            nn.Linear(in_features, 128),\n",
        "            nn.ReLU(),\n",
        "            nn.Dropout(0.5),\n",
        "            nn.Linear(128, num_view_classes)\n",
        "        )\n",
        "\n",
        "    def forward(self, x):\n",
        "        x = self.features(x)\n",
        "        x = self.pool(x)\n",
        "        out_damage = self.head_damage(x)\n",
        "        out_view = self.head_view(x)\n",
        "        return out_damage, out_view\n"
      ]
    },
    {
      "cell_type": "code",
      "execution_count": 24,
      "metadata": {
        "colab": {
          "base_uri": "https://localhost:8080/"
        },
        "collapsed": true,
        "id": "dkvbVT1AB2kT",
        "outputId": "229a075d-e0fe-42ba-deb0-1443ed8a5893"
      },
      "outputs": [
        {
          "output_type": "stream",
          "name": "stderr",
          "text": [
            "/usr/local/lib/python3.11/dist-packages/torchvision/models/_utils.py:208: UserWarning: The parameter 'pretrained' is deprecated since 0.13 and may be removed in the future, please use 'weights' instead.\n",
            "  warnings.warn(\n",
            "/usr/local/lib/python3.11/dist-packages/torchvision/models/_utils.py:223: UserWarning: Arguments other than a weight enum or `None` for 'weights' are deprecated since 0.13 and may be removed in the future. The current behavior is equivalent to passing `weights=DenseNet121_Weights.IMAGENET1K_V1`. You can also use `weights=DenseNet121_Weights.DEFAULT` to get the most up-to-date weights.\n",
            "  warnings.warn(msg)\n",
            "Downloading: \"https://download.pytorch.org/models/densenet121-a639ec97.pth\" to /root/.cache/torch/hub/checkpoints/densenet121-a639ec97.pth\n",
            "100%|██████████| 30.8M/30.8M [00:00<00:00, 162MB/s] \n"
          ]
        }
      ],
      "source": [
        "import torch.optim as optim\n",
        "from torch.optim.lr_scheduler import StepLR\n",
        "\n",
        "device = torch.device(\"cuda\" if torch.cuda.is_available() else \"cpu\")\n",
        "model = MultiTaskDenseNet121().to(device)\n",
        "\n",
        "criterion_damage = nn.CrossEntropyLoss()\n",
        "criterion_view = nn.CrossEntropyLoss()\n",
        "\n",
        "optimizer = optim.Adam(model.parameters(), lr=0.00005, weight_decay=1e-4)\n",
        "scheduler = StepLR(optimizer, step_size=3, gamma=0.5)\n"
      ]
    },
    {
      "cell_type": "code",
      "execution_count": 25,
      "metadata": {
        "id": "M6kk2w8O8Ml3"
      },
      "outputs": [],
      "source": [
        "class EarlyStopping:\n",
        "    def __init__(self, patience=5, verbose=True):\n",
        "        self.patience = patience\n",
        "        self.counter = 0\n",
        "        self.best_loss = None\n",
        "        self.early_stop = False\n",
        "        self.verbose = verbose\n",
        "\n",
        "    def __call__(self, val_loss):\n",
        "        if self.best_loss is None:\n",
        "            self.best_loss = val_loss\n",
        "        elif val_loss > self.best_loss:\n",
        "            self.counter += 1\n",
        "            if self.verbose:\n",
        "                print(f\"  ⚠️ EarlyStopping Counter: {self.counter} / {self.patience}\")\n",
        "            if self.counter >= self.patience:\n",
        "                self.early_stop = True\n",
        "        else:\n",
        "            self.best_loss = val_loss\n",
        "            self.counter = 0\n"
      ]
    },
    {
      "cell_type": "code",
      "execution_count": 26,
      "metadata": {
        "id": "CDRvbedW8Toy"
      },
      "outputs": [],
      "source": [
        "early_stopping = EarlyStopping(patience=3)"
      ]
    },
    {
      "cell_type": "code",
      "execution_count": 27,
      "metadata": {
        "id": "EWOJ0rGvB4du"
      },
      "outputs": [],
      "source": [
        "def train(model, train_loader, val_loader, optimizer, scheduler, criterion_damage, criterion_view, device, num_epochs=10):\n",
        "    for epoch in range(num_epochs):\n",
        "        model.train()\n",
        "        total_loss = 0\n",
        "        correct_damage = 0\n",
        "        correct_view = 0\n",
        "        total_samples = 0\n",
        "\n",
        "        for images, view_labels, damage_labels in train_loader:\n",
        "            images = images.to(device)\n",
        "            view_labels = view_labels.to(device)\n",
        "            damage_labels = damage_labels.to(device)\n",
        "\n",
        "            out_damage, out_view = model(images)\n",
        "            loss_damage = criterion_damage(out_damage, damage_labels)\n",
        "            loss_view = criterion_view(out_view, view_labels)\n",
        "            loss = loss_damage + loss_view\n",
        "\n",
        "            optimizer.zero_grad()\n",
        "            loss.backward()\n",
        "            optimizer.step()\n",
        "\n",
        "            _, pred_damage = torch.max(out_damage, 1)\n",
        "            _, pred_view = torch.max(out_view, 1)\n",
        "\n",
        "            correct_damage += (pred_damage == damage_labels).sum().item()\n",
        "            correct_view += (pred_view == view_labels).sum().item()\n",
        "            total_samples += images.size(0)\n",
        "            total_loss += loss.item()\n",
        "\n",
        "        avg_loss = total_loss / len(train_loader)\n",
        "        acc_damage = 100 * correct_damage / total_samples\n",
        "        acc_view = 100 * correct_view / total_samples\n",
        "        print(f\"[Epoch {epoch+1}/{num_epochs}] Train Loss: {avg_loss:.4f} | Damage Acc: {acc_damage:.2f}% | View Acc: {acc_view:.2f}%\")\n",
        "\n",
        "        # Validation\n",
        "        model.eval()\n",
        "        val_loss = 0\n",
        "        val_correct_damage = 0\n",
        "        val_correct_view = 0\n",
        "        val_total = 0\n",
        "\n",
        "        with torch.no_grad():\n",
        "            for images, view_labels, damage_labels in val_loader:\n",
        "                images = images.to(device)\n",
        "                view_labels = view_labels.to(device)\n",
        "                damage_labels = damage_labels.to(device)\n",
        "\n",
        "                out_damage, out_view = model(images)\n",
        "                loss_damage = criterion_damage(out_damage, damage_labels)\n",
        "                loss_view = criterion_view(out_view, view_labels)\n",
        "                loss = loss_damage + loss_view\n",
        "                val_loss += loss.item()\n",
        "\n",
        "                _, pred_damage = torch.max(out_damage, 1)\n",
        "                _, pred_view = torch.max(out_view, 1)\n",
        "\n",
        "                val_correct_damage += (pred_damage == damage_labels).sum().item()\n",
        "                val_correct_view += (pred_view == view_labels).sum().item()\n",
        "                val_total += images.size(0)\n",
        "\n",
        "        val_avg_loss = val_loss / len(val_loader)\n",
        "        val_acc_damage = 100 * val_correct_damage / val_total\n",
        "        val_acc_view = 100 * val_correct_view / val_total\n",
        "        print(f\"               → Val Loss: {val_avg_loss:.4f} | Damage Acc: {val_acc_damage:.2f}% | View Acc: {val_acc_view:.2f}%\")\n",
        "\n",
        "        scheduler.step()\n",
        "\n",
        "        early_stopping(val_avg_loss)\n",
        "        if early_stopping.early_stop:\n",
        "            print(\"⛔ Early stopping triggered. Training stopped.\")\n",
        "            break\n"
      ]
    },
    {
      "cell_type": "code",
      "execution_count": 28,
      "metadata": {
        "colab": {
          "base_uri": "https://localhost:8080/"
        },
        "id": "Wq5c7XiyB6IQ",
        "outputId": "635d00f6-de4c-4567-dbde-8a52428d2650",
        "collapsed": true
      },
      "outputs": [
        {
          "output_type": "stream",
          "name": "stdout",
          "text": [
            "[Epoch 1/30] Train Loss: 1.5131 | Damage Acc: 49.12% | View Acc: 77.76%\n",
            "               → Val Loss: 1.1384 | Damage Acc: 60.80% | View Acc: 95.23%\n",
            "[Epoch 2/30] Train Loss: 1.0180 | Damage Acc: 61.49% | View Acc: 96.80%\n",
            "               → Val Loss: 0.8345 | Damage Acc: 68.84% | View Acc: 98.24%\n",
            "[Epoch 3/30] Train Loss: 0.7940 | Damage Acc: 70.29% | View Acc: 98.12%\n",
            "               → Val Loss: 0.6359 | Damage Acc: 76.38% | View Acc: 99.25%\n",
            "[Epoch 4/30] Train Loss: 0.6516 | Damage Acc: 76.38% | View Acc: 98.87%\n",
            "               → Val Loss: 0.5661 | Damage Acc: 80.65% | View Acc: 99.25%\n",
            "[Epoch 5/30] Train Loss: 0.5963 | Damage Acc: 77.64% | View Acc: 99.06%\n",
            "               → Val Loss: 0.5022 | Damage Acc: 82.16% | View Acc: 99.25%\n",
            "[Epoch 6/30] Train Loss: 0.5310 | Damage Acc: 80.34% | View Acc: 99.56%\n",
            "               → Val Loss: 0.4475 | Damage Acc: 85.68% | View Acc: 99.75%\n",
            "[Epoch 7/30] Train Loss: 0.4590 | Damage Acc: 83.86% | View Acc: 99.37%\n",
            "               → Val Loss: 0.4166 | Damage Acc: 85.93% | View Acc: 99.75%\n",
            "[Epoch 8/30] Train Loss: 0.4269 | Damage Acc: 84.05% | View Acc: 99.50%\n",
            "               → Val Loss: 0.3876 | Damage Acc: 89.20% | View Acc: 99.75%\n",
            "[Epoch 9/30] Train Loss: 0.3954 | Damage Acc: 87.12% | View Acc: 99.56%\n",
            "               → Val Loss: 0.3649 | Damage Acc: 89.45% | View Acc: 99.75%\n",
            "[Epoch 10/30] Train Loss: 0.4069 | Damage Acc: 85.80% | View Acc: 99.62%\n",
            "               → Val Loss: 0.3421 | Damage Acc: 89.20% | View Acc: 99.75%\n",
            "[Epoch 11/30] Train Loss: 0.3597 | Damage Acc: 86.87% | View Acc: 99.75%\n",
            "               → Val Loss: 0.3350 | Damage Acc: 90.70% | View Acc: 99.75%\n",
            "[Epoch 12/30] Train Loss: 0.3309 | Damage Acc: 89.57% | View Acc: 99.62%\n",
            "               → Val Loss: 0.3158 | Damage Acc: 90.70% | View Acc: 99.75%\n",
            "[Epoch 13/30] Train Loss: 0.3439 | Damage Acc: 89.01% | View Acc: 99.62%\n",
            "               → Val Loss: 0.3139 | Damage Acc: 90.70% | View Acc: 99.75%\n",
            "[Epoch 14/30] Train Loss: 0.3179 | Damage Acc: 90.70% | View Acc: 99.50%\n",
            "               → Val Loss: 0.3060 | Damage Acc: 91.71% | View Acc: 99.75%\n",
            "[Epoch 15/30] Train Loss: 0.3285 | Damage Acc: 89.45% | View Acc: 99.62%\n",
            "               → Val Loss: 0.3003 | Damage Acc: 91.96% | View Acc: 99.50%\n",
            "[Epoch 16/30] Train Loss: 0.3031 | Damage Acc: 90.83% | View Acc: 99.50%\n",
            "               → Val Loss: 0.2979 | Damage Acc: 91.71% | View Acc: 99.75%\n",
            "[Epoch 17/30] Train Loss: 0.3166 | Damage Acc: 90.01% | View Acc: 99.81%\n",
            "               → Val Loss: 0.2931 | Damage Acc: 92.21% | View Acc: 99.50%\n",
            "[Epoch 18/30] Train Loss: 0.3027 | Damage Acc: 90.89% | View Acc: 99.37%\n",
            "               → Val Loss: 0.2918 | Damage Acc: 92.46% | View Acc: 99.50%\n",
            "[Epoch 19/30] Train Loss: 0.3297 | Damage Acc: 89.89% | View Acc: 99.50%\n",
            "               → Val Loss: 0.2877 | Damage Acc: 92.21% | View Acc: 99.75%\n",
            "[Epoch 20/30] Train Loss: 0.2972 | Damage Acc: 90.45% | View Acc: 99.94%\n",
            "               → Val Loss: 0.2848 | Damage Acc: 92.71% | View Acc: 99.75%\n",
            "[Epoch 21/30] Train Loss: 0.3036 | Damage Acc: 89.95% | View Acc: 99.43%\n",
            "               → Val Loss: 0.2825 | Damage Acc: 92.71% | View Acc: 99.75%\n",
            "[Epoch 22/30] Train Loss: 0.2870 | Damage Acc: 91.21% | View Acc: 99.75%\n",
            "               → Val Loss: 0.2848 | Damage Acc: 92.46% | View Acc: 99.50%\n",
            "  ⚠️ EarlyStopping Counter: 1 / 3\n",
            "[Epoch 23/30] Train Loss: 0.2933 | Damage Acc: 91.39% | View Acc: 99.56%\n",
            "               → Val Loss: 0.2872 | Damage Acc: 93.47% | View Acc: 99.75%\n",
            "  ⚠️ EarlyStopping Counter: 2 / 3\n",
            "[Epoch 24/30] Train Loss: 0.2823 | Damage Acc: 90.58% | View Acc: 99.69%\n",
            "               → Val Loss: 0.2829 | Damage Acc: 92.96% | View Acc: 99.75%\n",
            "  ⚠️ EarlyStopping Counter: 3 / 3\n",
            "⛔ Early stopping triggered. Training stopped.\n"
          ]
        }
      ],
      "source": [
        "train(model, train_loader, val_loader, optimizer, scheduler,\n",
        "      criterion_damage, criterion_view, device, num_epochs=30)\n"
      ]
    },
    {
      "cell_type": "code",
      "execution_count": 30,
      "metadata": {
        "id": "QQhaoxeYCZXB"
      },
      "outputs": [],
      "source": [
        "import matplotlib.pyplot as plt\n",
        "\n",
        "def plot_separate_losses(damage_train, damage_val, view_train, view_val):\n",
        "    epochs = range(1, len(damage_train) + 1)\n",
        "\n",
        "    plt.figure(figsize=(14, 6))\n",
        "\n",
        "    # Damage loss\n",
        "    plt.subplot(1, 2, 1)\n",
        "    plt.plot(epochs, damage_train, label='Train Damage Loss')\n",
        "    plt.plot(epochs, damage_val, label='Val Damage Loss')\n",
        "    plt.title('Damage Loss over Epochs')\n",
        "    plt.xlabel('Epoch')\n",
        "    plt.ylabel('Loss')\n",
        "    plt.legend()\n",
        "\n",
        "    # View loss\n",
        "    plt.subplot(1, 2, 2)\n",
        "    plt.plot(epochs, view_train, label='Train View Loss')\n",
        "    plt.plot(epochs, view_val, label='Val View Loss')\n",
        "    plt.title('View Loss over Epochs')\n",
        "    plt.xlabel('Epoch')\n",
        "    plt.ylabel('Loss')\n",
        "    plt.legend()\n",
        "\n",
        "    plt.tight_layout()\n",
        "    plt.show()\n"
      ]
    },
    {
      "cell_type": "code",
      "execution_count": 32,
      "metadata": {
        "id": "UYwe3ucHBBlx"
      },
      "outputs": [],
      "source": [
        "torch.save(model.state_dict(), \"/content/densenet121.pth\")"
      ]
    },
    {
      "cell_type": "code",
      "execution_count": 33,
      "metadata": {
        "colab": {
          "base_uri": "https://localhost:8080/",
          "height": 17
        },
        "id": "O1wfuruBBHEA",
        "outputId": "601fe384-a3ef-4b90-d949-49ed155b4e65"
      },
      "outputs": [
        {
          "output_type": "display_data",
          "data": {
            "text/plain": [
              "<IPython.core.display.Javascript object>"
            ],
            "application/javascript": [
              "\n",
              "    async function download(id, filename, size) {\n",
              "      if (!google.colab.kernel.accessAllowed) {\n",
              "        return;\n",
              "      }\n",
              "      const div = document.createElement('div');\n",
              "      const label = document.createElement('label');\n",
              "      label.textContent = `Downloading \"${filename}\": `;\n",
              "      div.appendChild(label);\n",
              "      const progress = document.createElement('progress');\n",
              "      progress.max = size;\n",
              "      div.appendChild(progress);\n",
              "      document.body.appendChild(div);\n",
              "\n",
              "      const buffers = [];\n",
              "      let downloaded = 0;\n",
              "\n",
              "      const channel = await google.colab.kernel.comms.open(id);\n",
              "      // Send a message to notify the kernel that we're ready.\n",
              "      channel.send({})\n",
              "\n",
              "      for await (const message of channel.messages) {\n",
              "        // Send a message to notify the kernel that we're ready.\n",
              "        channel.send({})\n",
              "        if (message.buffers) {\n",
              "          for (const buffer of message.buffers) {\n",
              "            buffers.push(buffer);\n",
              "            downloaded += buffer.byteLength;\n",
              "            progress.value = downloaded;\n",
              "          }\n",
              "        }\n",
              "      }\n",
              "      const blob = new Blob(buffers, {type: 'application/binary'});\n",
              "      const a = document.createElement('a');\n",
              "      a.href = window.URL.createObjectURL(blob);\n",
              "      a.download = filename;\n",
              "      div.appendChild(a);\n",
              "      a.click();\n",
              "      div.remove();\n",
              "    }\n",
              "  "
            ]
          },
          "metadata": {}
        },
        {
          "output_type": "display_data",
          "data": {
            "text/plain": [
              "<IPython.core.display.Javascript object>"
            ],
            "application/javascript": [
              "download(\"download_cb350d81-5c18-4571-9dea-db3243745cc7\", \"densenet121.pth\", 30003772)"
            ]
          },
          "metadata": {}
        }
      ],
      "source": [
        "from google.colab import files\n",
        "files.download(\"/content/densenet121.pth\")"
      ]
    },
    {
      "cell_type": "code",
      "execution_count": 34,
      "metadata": {
        "id": "3JI0TIquC646"
      },
      "outputs": [],
      "source": [
        "!pip install -q scikit-learn\n"
      ]
    },
    {
      "cell_type": "code",
      "execution_count": 35,
      "metadata": {
        "id": "evi7DUYqC9A9"
      },
      "outputs": [],
      "source": [
        "from sklearn.metrics import classification_report\n",
        "import torch\n",
        "\n",
        "def evaluate_classification_report(model, data_loader, device):\n",
        "    model.eval()\n",
        "    all_preds_damage = []\n",
        "    all_labels_damage = []\n",
        "    all_preds_view = []\n",
        "    all_labels_view = []\n",
        "\n",
        "    with torch.no_grad():\n",
        "        for images, view_labels, damage_labels in data_loader:\n",
        "            images = images.to(device)\n",
        "            view_labels = view_labels.to(device)\n",
        "            damage_labels = damage_labels.to(device)\n",
        "\n",
        "            out_damage, out_view = model(images)\n",
        "\n",
        "            _, preds_damage = torch.max(out_damage, 1)\n",
        "            _, preds_view = torch.max(out_view, 1)\n",
        "\n",
        "            all_preds_damage.extend(preds_damage.cpu().numpy())\n",
        "            all_labels_damage.extend(damage_labels.cpu().numpy())\n",
        "\n",
        "            all_preds_view.extend(preds_view.cpu().numpy())\n",
        "            all_labels_view.extend(view_labels.cpu().numpy())\n",
        "\n",
        "    print(\"Classification Report: DAMAGE (Normal / Crushed / Breakage)\")\n",
        "    print(classification_report(all_labels_damage, all_preds_damage, target_names=[\"Normal\", \"Crushed\", \"Breakage\"]))\n",
        "\n",
        "    print(\"Classification Report: VIEW (Front / Rear)\")\n",
        "    print(classification_report(all_labels_view, all_preds_view, target_names=[\"Front\", \"Rear\"]))\n"
      ]
    },
    {
      "cell_type": "code",
      "execution_count": 36,
      "metadata": {
        "colab": {
          "base_uri": "https://localhost:8080/"
        },
        "collapsed": true,
        "id": "6OPvYGAlC-uC",
        "outputId": "e81625d8-2a07-4471-9ee3-851ad809a243"
      },
      "outputs": [
        {
          "output_type": "stream",
          "name": "stdout",
          "text": [
            "Classification Report: DAMAGE (Normal / Crushed / Breakage)\n",
            "              precision    recall  f1-score   support\n",
            "\n",
            "      Normal       0.95      0.93      0.94        94\n",
            "     Crushed       0.91      0.91      0.91       141\n",
            "    Breakage       0.93      0.94      0.94       163\n",
            "\n",
            "    accuracy                           0.93       398\n",
            "   macro avg       0.93      0.93      0.93       398\n",
            "weighted avg       0.93      0.93      0.93       398\n",
            "\n",
            "Classification Report: VIEW (Front / Rear)\n",
            "              precision    recall  f1-score   support\n",
            "\n",
            "       Front       1.00      1.00      1.00       223\n",
            "        Rear       0.99      1.00      1.00       175\n",
            "\n",
            "    accuracy                           1.00       398\n",
            "   macro avg       1.00      1.00      1.00       398\n",
            "weighted avg       1.00      1.00      1.00       398\n",
            "\n"
          ]
        }
      ],
      "source": [
        "evaluate_classification_report(model, val_loader, device)\n"
      ]
    },
    {
      "cell_type": "code",
      "execution_count": 37,
      "metadata": {
        "id": "EyhIaNHkIVG0"
      },
      "outputs": [],
      "source": [
        "torch.save(model.state_dict(), \"multitask_densenet121.pth\")\n"
      ]
    },
    {
      "cell_type": "code",
      "execution_count": 38,
      "metadata": {
        "id": "pWYnSB2nK4bK"
      },
      "outputs": [],
      "source": [
        "torch.save(model, \"full_model.pth\")\n"
      ]
    },
    {
      "cell_type": "code",
      "execution_count": 39,
      "metadata": {
        "id": "U9b8PhJLZJRX"
      },
      "outputs": [],
      "source": [
        "import torch\n",
        "import matplotlib.pyplot as plt\n",
        "import seaborn as sns\n",
        "from sklearn.metrics import confusion_matrix\n"
      ]
    },
    {
      "cell_type": "code",
      "execution_count": 40,
      "metadata": {
        "id": "7gZLFpYAZMyH"
      },
      "outputs": [],
      "source": [
        "def plot_confusion_matrices(model, data_loader, device):\n",
        "    model.eval()\n",
        "    all_preds_damage = []\n",
        "    all_labels_damage = []\n",
        "    all_preds_view = []\n",
        "    all_labels_view = []\n",
        "\n",
        "    with torch.no_grad():\n",
        "        for images, view_labels, damage_labels in data_loader:\n",
        "            images = images.to(device)\n",
        "            view_labels = view_labels.to(device)\n",
        "            damage_labels = damage_labels.to(device)\n",
        "\n",
        "            out_damage, out_view = model(images)\n",
        "\n",
        "            _, preds_damage = torch.max(out_damage, 1)\n",
        "            _, preds_view = torch.max(out_view, 1)\n",
        "\n",
        "            all_preds_damage.extend(preds_damage.cpu().numpy())\n",
        "            all_labels_damage.extend(damage_labels.cpu().numpy())\n",
        "\n",
        "            all_preds_view.extend(preds_view.cpu().numpy())\n",
        "            all_labels_view.extend(view_labels.cpu().numpy())\n",
        "\n",
        "    # DAMAGE MATRIX\n",
        "    cm_damage = confusion_matrix(all_labels_damage, all_preds_damage)\n",
        "    labels_damage = [\"Normal\", \"Crushed\", \"Breakage\"]\n",
        "\n",
        "    plt.figure(figsize=(6,5))\n",
        "    sns.heatmap(cm_damage, annot=True, fmt=\"d\", cmap=\"Blues\",\n",
        "                xticklabels=labels_damage, yticklabels=labels_damage)\n",
        "    plt.title(\"Confusion Matrix - Damage\")\n",
        "    plt.xlabel(\"Predicted\")\n",
        "    plt.ylabel(\"True\")\n",
        "    plt.show()\n",
        "\n",
        "    # VIEW MATRIX\n",
        "    cm_view = confusion_matrix(all_labels_view, all_preds_view)\n",
        "    labels_view = [\"Front\", \"Rear\"]\n",
        "\n",
        "    plt.figure(figsize=(4,4))\n",
        "    sns.heatmap(cm_view, annot=True, fmt=\"d\", cmap=\"Greens\",\n",
        "                xticklabels=labels_view, yticklabels=labels_view)\n",
        "    plt.title(\"Confusion Matrix - View\")\n",
        "    plt.xlabel(\"Predicted\")\n",
        "    plt.ylabel(\"True\")\n",
        "    plt.show()\n"
      ]
    },
    {
      "cell_type": "code",
      "execution_count": 41,
      "metadata": {
        "colab": {
          "base_uri": "https://localhost:8080/",
          "height": 880
        },
        "collapsed": true,
        "id": "SdSNeKPWZPgK",
        "outputId": "f9509b32-c165-4bf5-e719-f39ce9bb50a5"
      },
      "outputs": [
        {
          "output_type": "display_data",
          "data": {
            "text/plain": [
              "<Figure size 600x500 with 2 Axes>"
            ],
            "image/png": "[encoded data removed]"
          },
          "metadata": {}
        },
        {
          "output_type": "display_data",
          "data": {
            "text/plain": [
              "<Figure size 400x400 with 2 Axes>"
            ],
            "image/png": "[encoded data removed]"
          },
          "metadata": {}
        }
      ],
      "source": [
        "plot_confusion_matrices(model, val_loader, device)\n"
      ]
    }
  ],
  "metadata": {
    "accelerator": "GPU",
    "colab": {
      "gpuType": "A100",
      "machine_shape": "hm",
      "provenance": [],
      "authorship_tag": "ABX9TyPcigMELnWjiitAfoPvF1lN",
      "include_colab_link": true
    },
    "kernelspec": {
      "display_name": "Python 3",
      "name": "python3"
    },
    "language_info": {
      "name": "python"
    }
  },
  "nbformat": 4,
  "nbformat_minor": 0
}